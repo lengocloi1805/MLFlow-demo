{
 "cells": [
  {
   "cell_type": "markdown",
   "metadata": {},
   "source": [
    "# MLflow Training Tutorial\n",
    "\n",
    "This `train.pynb` Jupyter notebook predicts the quality of wine using [sklearn.linear_model.ElasticNet](http://scikit-learn.org/stable/modules/generated/sklearn.linear_model.ElasticNet.html).  \n",
    "\n",
    "> This is the Jupyter notebook version of the `train.py` example\n",
    "\n",
    "Attribution\n",
    "* The data set used in this example is from http://archive.ics.uci.edu/ml/datasets/Wine+Quality\n",
    "* P. Cortez, A. Cerdeira, F. Almeida, T. Matos and J. Reis.\n",
    "* Modeling wine preferences by data mining from physicochemical properties. In Decision Support Systems, Elsevier, 47(4):547-553, 2009.\n"
   ]
  },
  {
   "cell_type": "code",
   "execution_count": 1,
   "metadata": {},
   "outputs": [],
   "source": [
    "import warnings\n",
    "warnings.filterwarnings(\"ignore\")"
   ]
  },
  {
   "cell_type": "code",
   "execution_count": 2,
   "metadata": {},
   "outputs": [],
   "source": [
    "# Wine Quality Sample\n",
    "def train(in_alpha, in_l1_ratio):\n",
    "    import os\n",
    "    import warnings\n",
    "    import sys\n",
    "\n",
    "    import pandas as pd\n",
    "    import numpy as np\n",
    "    from sklearn.metrics import mean_squared_error, mean_absolute_error, r2_score\n",
    "    from sklearn.model_selection import train_test_split\n",
    "    from sklearn.linear_model import ElasticNet\n",
    "\n",
    "    import mlflow\n",
    "    import mlflow.sklearn\n",
    "    \n",
    "    import logging\n",
    "    logging.basicConfig(level=logging.WARN)\n",
    "    logger = logging.getLogger(__name__)\n",
    "\n",
    "    def eval_metrics(actual, pred):\n",
    "        rmse = np.sqrt(mean_squared_error(actual, pred))\n",
    "        mae = mean_absolute_error(actual, pred)\n",
    "        r2 = r2_score(actual, pred)\n",
    "        return rmse, mae, r2\n",
    "\n",
    "\n",
    "    warnings.filterwarnings(\"ignore\")\n",
    "    np.random.seed(40)\n",
    "\n",
    "    # Read the wine-quality csv file from the URL\n",
    "    csv_url =\\\n",
    "        'http://archive.ics.uci.edu/ml/machine-learning-databases/wine-quality/winequality-red.csv'\n",
    "    try:\n",
    "        data = pd.read_csv(csv_url, sep=';')\n",
    "    except Exception as e:\n",
    "        logger.exception(\n",
    "            \"Unable to download training & test CSV, check your internet connection. Error: %s\", e)\n",
    "\n",
    "    # Split the data into training and test sets. (0.75, 0.25) split.\n",
    "    train, test = train_test_split(data)\n",
    "\n",
    "    # The predicted column is \"quality\" which is a scalar from [3, 9]\n",
    "    train_x = train.drop([\"quality\"], axis=1)\n",
    "    test_x = test.drop([\"quality\"], axis=1)\n",
    "    train_y = train[[\"quality\"]]\n",
    "    test_y = test[[\"quality\"]]\n",
    "\n",
    "    # Set default values if no alpha is provided\n",
    "    if float(in_alpha) is None:\n",
    "        alpha = 0.5\n",
    "    else:\n",
    "        alpha = float(in_alpha)\n",
    "\n",
    "    # Set default values if no l1_ratio is provided\n",
    "    if float(in_l1_ratio) is None:\n",
    "        l1_ratio = 0.5\n",
    "    else:\n",
    "        l1_ratio = float(in_l1_ratio)\n",
    "    \n",
    "    # Useful for multiple runs (only doing one run in this sample notebook)    \n",
    "    with mlflow.start_run():\n",
    "        # Execute ElasticNet\n",
    "        lr = ElasticNet(alpha=alpha, l1_ratio=l1_ratio, random_state=42)\n",
    "        lr.fit(train_x, train_y)\n",
    "\n",
    "        # Evaluate Metrics\n",
    "        predicted_qualities = lr.predict(test_x)\n",
    "        (rmse, mae, r2) = eval_metrics(test_y, predicted_qualities)\n",
    "\n",
    "        # Print out metrics\n",
    "        print(\"Elasticnet model (alpha=%f, l1_ratio=%f):\" % (alpha, l1_ratio))\n",
    "        print(\"  RMSE: %s\" % rmse)\n",
    "        print(\"  MAE: %s\" % mae)\n",
    "        print(\"  R2: %s\" % r2)\n",
    "\n",
    "        # Log parameter, metrics, and model to MLflow\n",
    "        mlflow.log_param(\"alpha\", alpha)\n",
    "        mlflow.log_param(\"l1_ratio\", l1_ratio)\n",
    "        mlflow.log_metric(\"rmse\", rmse)\n",
    "        mlflow.log_metric(\"r2\", r2)\n",
    "        mlflow.log_metric(\"mae\", mae)\n",
    "\n",
    "        mlflow.sklearn.log_model(lr, \"model\")"
   ]
  },
  {
   "cell_type": "code",
   "execution_count": 6,
   "metadata": {},
   "outputs": [
    {
     "data": {
      "text/plain": [
       "<Experiment: artifact_location='./artifacts/1', experiment_id='1', lifecycle_stage='active', name='Tutorials-MLFlow', tags={}>"
      ]
     },
     "execution_count": 6,
     "metadata": {},
     "output_type": "execute_result"
    }
   ],
   "source": [
    "import mlflow\n",
    "mlflow.set_tracking_uri(\"http://127.0.0.1:4000/\")\n",
    "mlflow.set_experiment(\"Tutorials-MLFlow\")"
   ]
  },
  {
   "cell_type": "code",
   "execution_count": 3,
   "metadata": {},
   "outputs": [
    {
     "ename": "MlflowException",
     "evalue": "Could not create run under non-active experiment with ID 0.",
     "output_type": "error",
     "traceback": [
      "\u001b[1;31m---------------------------------------------------------------------------\u001b[0m",
      "\u001b[1;31mMlflowException\u001b[0m                           Traceback (most recent call last)",
      "\u001b[1;32md:\\FSOFT_QAI\\mlflow-demo\\train.ipynb Cell 5'\u001b[0m in \u001b[0;36m<module>\u001b[1;34m\u001b[0m\n\u001b[1;32m----> <a href='vscode-notebook-cell:/d%3A/FSOFT_QAI/mlflow-demo/train.ipynb#ch0000004?line=0'>1</a>\u001b[0m train(\u001b[39m0.5\u001b[39;49m, \u001b[39m0.5\u001b[39;49m)\n",
      "\u001b[1;32md:\\FSOFT_QAI\\mlflow-demo\\train.ipynb Cell 3'\u001b[0m in \u001b[0;36mtrain\u001b[1;34m(in_alpha, in_l1_ratio)\u001b[0m\n\u001b[0;32m     <a href='vscode-notebook-cell:/d%3A/FSOFT_QAI/mlflow-demo/train.ipynb#ch0000002?line=57'>58</a>\u001b[0m     l1_ratio \u001b[39m=\u001b[39m \u001b[39mfloat\u001b[39m(in_l1_ratio)\n\u001b[0;32m     <a href='vscode-notebook-cell:/d%3A/FSOFT_QAI/mlflow-demo/train.ipynb#ch0000002?line=59'>60</a>\u001b[0m \u001b[39m# Useful for multiple runs (only doing one run in this sample notebook)    \u001b[39;00m\n\u001b[1;32m---> <a href='vscode-notebook-cell:/d%3A/FSOFT_QAI/mlflow-demo/train.ipynb#ch0000002?line=60'>61</a>\u001b[0m \u001b[39mwith\u001b[39;00m mlflow\u001b[39m.\u001b[39;49mstart_run():\n\u001b[0;32m     <a href='vscode-notebook-cell:/d%3A/FSOFT_QAI/mlflow-demo/train.ipynb#ch0000002?line=61'>62</a>\u001b[0m     \u001b[39m# Execute ElasticNet\u001b[39;00m\n\u001b[0;32m     <a href='vscode-notebook-cell:/d%3A/FSOFT_QAI/mlflow-demo/train.ipynb#ch0000002?line=62'>63</a>\u001b[0m     lr \u001b[39m=\u001b[39m ElasticNet(alpha\u001b[39m=\u001b[39malpha, l1_ratio\u001b[39m=\u001b[39ml1_ratio, random_state\u001b[39m=\u001b[39m\u001b[39m42\u001b[39m)\n\u001b[0;32m     <a href='vscode-notebook-cell:/d%3A/FSOFT_QAI/mlflow-demo/train.ipynb#ch0000002?line=63'>64</a>\u001b[0m     lr\u001b[39m.\u001b[39mfit(train_x, train_y)\n",
      "File \u001b[1;32m~\\miniconda3\\envs\\NER\\lib\\site-packages\\mlflow\\tracking\\fluent.py:290\u001b[0m, in \u001b[0;36mstart_run\u001b[1;34m(run_id, experiment_id, run_name, nested, tags)\u001b[0m\n\u001b[0;32m    <a href='file:///~/miniconda3/envs/NER/lib/site-packages/mlflow/tracking/fluent.py?line=285'>286</a>\u001b[0m         user_specified_tags[MLFLOW_RUN_NAME] \u001b[39m=\u001b[39m run_name\n\u001b[0;32m    <a href='file:///~/miniconda3/envs/NER/lib/site-packages/mlflow/tracking/fluent.py?line=287'>288</a>\u001b[0m     resolved_tags \u001b[39m=\u001b[39m context_registry\u001b[39m.\u001b[39mresolve_tags(user_specified_tags)\n\u001b[1;32m--> <a href='file:///~/miniconda3/envs/NER/lib/site-packages/mlflow/tracking/fluent.py?line=289'>290</a>\u001b[0m     active_run_obj \u001b[39m=\u001b[39m client\u001b[39m.\u001b[39;49mcreate_run(experiment_id\u001b[39m=\u001b[39;49mexp_id_for_run, tags\u001b[39m=\u001b[39;49mresolved_tags)\n\u001b[0;32m    <a href='file:///~/miniconda3/envs/NER/lib/site-packages/mlflow/tracking/fluent.py?line=291'>292</a>\u001b[0m _active_run_stack\u001b[39m.\u001b[39mappend(ActiveRun(active_run_obj))\n\u001b[0;32m    <a href='file:///~/miniconda3/envs/NER/lib/site-packages/mlflow/tracking/fluent.py?line=292'>293</a>\u001b[0m \u001b[39mreturn\u001b[39;00m _active_run_stack[\u001b[39m-\u001b[39m\u001b[39m1\u001b[39m]\n",
      "File \u001b[1;32m~\\miniconda3\\envs\\NER\\lib\\site-packages\\mlflow\\tracking\\client.py:265\u001b[0m, in \u001b[0;36mMlflowClient.create_run\u001b[1;34m(self, experiment_id, start_time, tags)\u001b[0m\n\u001b[0;32m    <a href='file:///~/miniconda3/envs/NER/lib/site-packages/mlflow/tracking/client.py?line=218'>219</a>\u001b[0m \u001b[39mdef\u001b[39;00m \u001b[39mcreate_run\u001b[39m(\n\u001b[0;32m    <a href='file:///~/miniconda3/envs/NER/lib/site-packages/mlflow/tracking/client.py?line=219'>220</a>\u001b[0m     \u001b[39mself\u001b[39m,\n\u001b[0;32m    <a href='file:///~/miniconda3/envs/NER/lib/site-packages/mlflow/tracking/client.py?line=220'>221</a>\u001b[0m     experiment_id: \u001b[39mstr\u001b[39m,\n\u001b[0;32m    <a href='file:///~/miniconda3/envs/NER/lib/site-packages/mlflow/tracking/client.py?line=221'>222</a>\u001b[0m     start_time: Optional[\u001b[39mint\u001b[39m] \u001b[39m=\u001b[39m \u001b[39mNone\u001b[39;00m,\n\u001b[0;32m    <a href='file:///~/miniconda3/envs/NER/lib/site-packages/mlflow/tracking/client.py?line=222'>223</a>\u001b[0m     tags: Optional[Dict[\u001b[39mstr\u001b[39m, Any]] \u001b[39m=\u001b[39m \u001b[39mNone\u001b[39;00m,\n\u001b[0;32m    <a href='file:///~/miniconda3/envs/NER/lib/site-packages/mlflow/tracking/client.py?line=223'>224</a>\u001b[0m ) \u001b[39m-\u001b[39m\u001b[39m>\u001b[39m Run:\n\u001b[0;32m    <a href='file:///~/miniconda3/envs/NER/lib/site-packages/mlflow/tracking/client.py?line=224'>225</a>\u001b[0m     \u001b[39m\"\"\"\u001b[39;00m\n\u001b[0;32m    <a href='file:///~/miniconda3/envs/NER/lib/site-packages/mlflow/tracking/client.py?line=225'>226</a>\u001b[0m \u001b[39m    Create a :py:class:`mlflow.entities.Run` object that can be associated with\u001b[39;00m\n\u001b[0;32m    <a href='file:///~/miniconda3/envs/NER/lib/site-packages/mlflow/tracking/client.py?line=226'>227</a>\u001b[0m \u001b[39m    metrics, parameters, artifacts, etc.\u001b[39;00m\n\u001b[1;32m   (...)\u001b[0m\n\u001b[0;32m    <a href='file:///~/miniconda3/envs/NER/lib/site-packages/mlflow/tracking/client.py?line=262'>263</a>\u001b[0m \u001b[39m        status: RUNNING\u001b[39;00m\n\u001b[0;32m    <a href='file:///~/miniconda3/envs/NER/lib/site-packages/mlflow/tracking/client.py?line=263'>264</a>\u001b[0m \u001b[39m    \"\"\"\u001b[39;00m\n\u001b[1;32m--> <a href='file:///~/miniconda3/envs/NER/lib/site-packages/mlflow/tracking/client.py?line=264'>265</a>\u001b[0m     \u001b[39mreturn\u001b[39;00m \u001b[39mself\u001b[39;49m\u001b[39m.\u001b[39;49m_tracking_client\u001b[39m.\u001b[39;49mcreate_run(experiment_id, start_time, tags)\n",
      "File \u001b[1;32m~\\miniconda3\\envs\\NER\\lib\\site-packages\\mlflow\\tracking\\_tracking_service\\client.py:104\u001b[0m, in \u001b[0;36mTrackingServiceClient.create_run\u001b[1;34m(self, experiment_id, start_time, tags)\u001b[0m\n\u001b[0;32m     <a href='file:///~/miniconda3/envs/NER/lib/site-packages/mlflow/tracking/_tracking_service/client.py?line=98'>99</a>\u001b[0m \u001b[39m# Extract user from tags\u001b[39;00m\n\u001b[0;32m    <a href='file:///~/miniconda3/envs/NER/lib/site-packages/mlflow/tracking/_tracking_service/client.py?line=99'>100</a>\u001b[0m \u001b[39m# This logic is temporary; the user_id attribute of runs is deprecated and will be removed\u001b[39;00m\n\u001b[0;32m    <a href='file:///~/miniconda3/envs/NER/lib/site-packages/mlflow/tracking/_tracking_service/client.py?line=100'>101</a>\u001b[0m \u001b[39m# in a later release.\u001b[39;00m\n\u001b[0;32m    <a href='file:///~/miniconda3/envs/NER/lib/site-packages/mlflow/tracking/_tracking_service/client.py?line=101'>102</a>\u001b[0m user_id \u001b[39m=\u001b[39m tags\u001b[39m.\u001b[39mget(MLFLOW_USER, \u001b[39m\"\u001b[39m\u001b[39munknown\u001b[39m\u001b[39m\"\u001b[39m)\n\u001b[1;32m--> <a href='file:///~/miniconda3/envs/NER/lib/site-packages/mlflow/tracking/_tracking_service/client.py?line=103'>104</a>\u001b[0m \u001b[39mreturn\u001b[39;00m \u001b[39mself\u001b[39;49m\u001b[39m.\u001b[39;49mstore\u001b[39m.\u001b[39;49mcreate_run(\n\u001b[0;32m    <a href='file:///~/miniconda3/envs/NER/lib/site-packages/mlflow/tracking/_tracking_service/client.py?line=104'>105</a>\u001b[0m     experiment_id\u001b[39m=\u001b[39;49mexperiment_id,\n\u001b[0;32m    <a href='file:///~/miniconda3/envs/NER/lib/site-packages/mlflow/tracking/_tracking_service/client.py?line=105'>106</a>\u001b[0m     user_id\u001b[39m=\u001b[39;49muser_id,\n\u001b[0;32m    <a href='file:///~/miniconda3/envs/NER/lib/site-packages/mlflow/tracking/_tracking_service/client.py?line=106'>107</a>\u001b[0m     start_time\u001b[39m=\u001b[39;49mstart_time \u001b[39mor\u001b[39;49;00m \u001b[39mint\u001b[39;49m(time\u001b[39m.\u001b[39;49mtime() \u001b[39m*\u001b[39;49m \u001b[39m1000\u001b[39;49m),\n\u001b[0;32m    <a href='file:///~/miniconda3/envs/NER/lib/site-packages/mlflow/tracking/_tracking_service/client.py?line=107'>108</a>\u001b[0m     tags\u001b[39m=\u001b[39;49m[RunTag(key, value) \u001b[39mfor\u001b[39;49;00m (key, value) \u001b[39min\u001b[39;49;00m tags\u001b[39m.\u001b[39;49mitems()],\n\u001b[0;32m    <a href='file:///~/miniconda3/envs/NER/lib/site-packages/mlflow/tracking/_tracking_service/client.py?line=108'>109</a>\u001b[0m )\n",
      "File \u001b[1;32m~\\miniconda3\\envs\\NER\\lib\\site-packages\\mlflow\\store\\tracking\\file_store.py:498\u001b[0m, in \u001b[0;36mFileStore.create_run\u001b[1;34m(self, experiment_id, user_id, start_time, tags)\u001b[0m\n\u001b[0;32m    <a href='file:///~/miniconda3/envs/NER/lib/site-packages/mlflow/store/tracking/file_store.py?line=491'>492</a>\u001b[0m     \u001b[39mraise\u001b[39;00m MlflowException(\n\u001b[0;32m    <a href='file:///~/miniconda3/envs/NER/lib/site-packages/mlflow/store/tracking/file_store.py?line=492'>493</a>\u001b[0m         \u001b[39m\"\u001b[39m\u001b[39mCould not create run under experiment with ID \u001b[39m\u001b[39m%s\u001b[39;00m\u001b[39m - no such experiment \u001b[39m\u001b[39m\"\u001b[39m\n\u001b[0;32m    <a href='file:///~/miniconda3/envs/NER/lib/site-packages/mlflow/store/tracking/file_store.py?line=493'>494</a>\u001b[0m         \u001b[39m\"\u001b[39m\u001b[39mexists.\u001b[39m\u001b[39m\"\u001b[39m \u001b[39m%\u001b[39m experiment_id,\n\u001b[0;32m    <a href='file:///~/miniconda3/envs/NER/lib/site-packages/mlflow/store/tracking/file_store.py?line=494'>495</a>\u001b[0m         databricks_pb2\u001b[39m.\u001b[39mRESOURCE_DOES_NOT_EXIST,\n\u001b[0;32m    <a href='file:///~/miniconda3/envs/NER/lib/site-packages/mlflow/store/tracking/file_store.py?line=495'>496</a>\u001b[0m     )\n\u001b[0;32m    <a href='file:///~/miniconda3/envs/NER/lib/site-packages/mlflow/store/tracking/file_store.py?line=496'>497</a>\u001b[0m \u001b[39mif\u001b[39;00m experiment\u001b[39m.\u001b[39mlifecycle_stage \u001b[39m!=\u001b[39m LifecycleStage\u001b[39m.\u001b[39mACTIVE:\n\u001b[1;32m--> <a href='file:///~/miniconda3/envs/NER/lib/site-packages/mlflow/store/tracking/file_store.py?line=497'>498</a>\u001b[0m     \u001b[39mraise\u001b[39;00m MlflowException(\n\u001b[0;32m    <a href='file:///~/miniconda3/envs/NER/lib/site-packages/mlflow/store/tracking/file_store.py?line=498'>499</a>\u001b[0m         \u001b[39m\"\u001b[39m\u001b[39mCould not create run under non-active experiment with ID \u001b[39m\u001b[39m\"\u001b[39m \u001b[39m\"\u001b[39m\u001b[39m%s\u001b[39;00m\u001b[39m.\u001b[39m\u001b[39m\"\u001b[39m \u001b[39m%\u001b[39m experiment_id,\n\u001b[0;32m    <a href='file:///~/miniconda3/envs/NER/lib/site-packages/mlflow/store/tracking/file_store.py?line=499'>500</a>\u001b[0m         databricks_pb2\u001b[39m.\u001b[39mINVALID_STATE,\n\u001b[0;32m    <a href='file:///~/miniconda3/envs/NER/lib/site-packages/mlflow/store/tracking/file_store.py?line=500'>501</a>\u001b[0m     )\n\u001b[0;32m    <a href='file:///~/miniconda3/envs/NER/lib/site-packages/mlflow/store/tracking/file_store.py?line=501'>502</a>\u001b[0m run_uuid \u001b[39m=\u001b[39m uuid\u001b[39m.\u001b[39muuid4()\u001b[39m.\u001b[39mhex\n\u001b[0;32m    <a href='file:///~/miniconda3/envs/NER/lib/site-packages/mlflow/store/tracking/file_store.py?line=502'>503</a>\u001b[0m artifact_uri \u001b[39m=\u001b[39m \u001b[39mself\u001b[39m\u001b[39m.\u001b[39m_get_artifact_dir(experiment_id, run_uuid)\n",
      "\u001b[1;31mMlflowException\u001b[0m: Could not create run under non-active experiment with ID 0."
     ]
    }
   ],
   "source": [
    "train(0.5, 0.5)"
   ]
  },
  {
   "cell_type": "code",
   "execution_count": 8,
   "metadata": {},
   "outputs": [
    {
     "name": "stdout",
     "output_type": "stream",
     "text": [
      "Elasticnet model (alpha=0.300000, l1_ratio=0.400000):\n",
      "  RMSE: 0.7501603725852\n",
      "  MAE: 0.5818749078280212\n",
      "  R2: 0.2026629101382652\n"
     ]
    }
   ],
   "source": [
    "train(0.3, 0.4)"
   ]
  },
  {
   "cell_type": "code",
   "execution_count": 9,
   "metadata": {},
   "outputs": [
    {
     "name": "stdout",
     "output_type": "stream",
     "text": [
      "Elasticnet model (alpha=0.100000, l1_ratio=0.100000):\n",
      "  RMSE: 0.7128829045893679\n",
      "  MAE: 0.5462202174984664\n",
      "  R2: 0.2799376066653345\n"
     ]
    }
   ],
   "source": [
    "train(0.1, 0.1)"
   ]
  },
  {
   "cell_type": "code",
   "execution_count": null,
   "metadata": {},
   "outputs": [],
   "source": []
  },
  {
   "cell_type": "code",
   "execution_count": null,
   "metadata": {},
   "outputs": [],
   "source": []
  }
 ],
 "metadata": {
  "kernelspec": {
   "display_name": "Python 3",
   "language": "python",
   "name": "python3"
  },
  "language_info": {
   "codemirror_mode": {
    "name": "ipython",
    "version": 3
   },
   "file_extension": ".py",
   "mimetype": "text/x-python",
   "name": "python",
   "nbconvert_exporter": "python",
   "pygments_lexer": "ipython3",
   "version": "3.8.12"
  }
 },
 "nbformat": 4,
 "nbformat_minor": 2
}
